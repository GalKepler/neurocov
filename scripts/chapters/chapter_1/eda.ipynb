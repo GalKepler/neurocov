{
 "cells": [
  {
   "cell_type": "markdown",
   "metadata": {},
   "source": [
    "# Exploratory Data Analysis (EDA)\n",
    "This notebook includes description of selected features' covariance and distributions, as well as their correlation to MRI-derived metrics.\n",
    "\n",
    "(This paper is focused primarily on Mean Diffusivity as MRI-derived metric)"
   ]
  },
  {
   "cell_type": "code",
   "execution_count": 3,
   "metadata": {},
   "outputs": [],
   "source": [
    "#!pip install scikit-learn pandas matplotlib seaborn pysurfer\n",
    "import pandas as pd\n",
    "from pathlib import Path\n",
    "import matplotlib.pyplot as plt\n",
    "import seaborn as sns\n",
    "from neurocov.vis.utils import df_to_nifti, nifti_to_surface_png\n",
    "from matplotlib import style\n",
    "style.use(\"fivethirtyeight\")"
   ]
  },
  {
   "cell_type": "code",
   "execution_count": 4,
   "metadata": {},
   "outputs": [],
   "source": [
    "all_data = pd.read_pickle(\"../../../data/data_combined.pickle\")\n",
    "parcels = pd.read_csv(\"../../../data/BNA_with_cerebellum.csv\", index_col=0)\n",
    "atlas_image_path = \"../../../data/BN_Atlas_274_combined_1mm.nii.gz\"\n",
    "\n",
    "all_mr_data, all_subject_details, all_session_details, all_metrics = [\n",
    "    all_data[col] for col in [\"brainnetome\", \"questionnaire\", \"session_details\", \"metric\"]\n",
    "]\n",
    "\n",
    "destination = Path(\"../../../results/chapter_1/eda\")\n",
    "destination.mkdir(parents=True,exist_ok=True)"
   ]
  },
  {
   "cell_type": "markdown",
   "metadata": {},
   "source": [
    "## Remove subjects with multiple sessions.\n",
    "Since the overall goal is to set a platform for removal of confound variables from longitudinal studies, we would like to \"keep\" these subjects for later analyses.\n",
    "\n",
    "To avoid drifting of information from one set of models to another, we will currently drop them."
   ]
  },
  {
   "cell_type": "code",
   "execution_count": 5,
   "metadata": {},
   "outputs": [
    {
     "name": "stdout",
     "output_type": "stream",
     "text": [
      "Found a total of 223 participants with only one session\n"
     ]
    }
   ],
   "source": [
    "sessions = all_session_details.copy()\n",
    "sessions.loc[all_metrics.index,\"metric\"] = all_metrics\n",
    "sessions.loc[all_subject_details.index,\"participant\"] = all_subject_details[\"participant\"]\n",
    "sessions.drop_duplicates(subset=[\"participant\",\"metric\"],keep=False,inplace=True)\n",
    "\n",
    "single_session_participants = sessions[\"participant\"].unique()\n",
    "single_session_indices = sessions.index\n",
    "print(f\"Found a total of {len(single_session_participants)} participants with only one session\")"
   ]
  }
 ],
 "metadata": {
  "kernelspec": {
   "display_name": "Python 3.9.2 ('venv': venv)",
   "language": "python",
   "name": "python3"
  },
  "language_info": {
   "codemirror_mode": {
    "name": "ipython",
    "version": 3
   },
   "file_extension": ".py",
   "mimetype": "text/x-python",
   "name": "python",
   "nbconvert_exporter": "python",
   "pygments_lexer": "ipython3",
   "version": "3.9.2"
  },
  "orig_nbformat": 4,
  "vscode": {
   "interpreter": {
    "hash": "18112318e1e5c66abc775daed63e59cc52f7d3c2b877d968331c853d0331fe5f"
   }
  }
 },
 "nbformat": 4,
 "nbformat_minor": 2
}
